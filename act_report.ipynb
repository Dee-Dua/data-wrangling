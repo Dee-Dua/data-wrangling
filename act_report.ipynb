{
 "cells": [
  {
   "cell_type": "markdown",
   "metadata": {},
   "source": [
    "# WeRateDogs Report"
   ]
  },
  {
   "cell_type": "markdown",
   "metadata": {},
   "source": [
    "<a id='intro'></a>\n",
    "## Introduction\n",
    "\n",
    "Hi there! My name is Deepti and I have written this article about super cute dogs, like Ringo here -\n",
    "\n",
    "<img src=\"image1.jpeg\" alt=\"Ringo\" title=\"Ringo\" />\n",
    "\n",
    "\n",
    "I have analysed the Twitter data for WeRateDogs (@dog_rates), a Professional Dog rating service which rates people's dogs with a humorous comment about the dog. Hope you find my insights interesting and entertaining!\n"
   ]
  },
  {
   "cell_type": "markdown",
   "metadata": {},
   "source": [
    "The first question that came to mind was what source do people use the most while tweeting about WeRateDogs? Not surprisingly, it was the twitter app for the iphone but what blew my mind was the magnitude of the difference. See for yourself here -\n",
    "\n",
    "<img src=\"weratedogs_source.png\" alt=\"Ringo\" title=\"Ringo\" />\n"
   ]
  },
  {
   "cell_type": "markdown",
   "metadata": {},
   "source": [
    "I also wanted to know the top 3 dogs that are most retweeted and favourited. It made me realize that if you want your dog to get the most likes and retweets, you need to post a video instead of just a picture. All the top 3 dogs with the most retweets have their video posted instead of just a picture and the same goes for 2 out of the top 3 most favourited dogs.\n",
    "\n",
    "Check out the dogs with most retweets here-\n",
    "\n",
    "1> https://twitter.com/dog_rates/status/744234799360020481/video/1\n",
    "\n",
    "2> https://twitter.com/dog_rates/status/739238157791694849/video/1\n",
    "\n",
    "3> https://twitter.com/dog_rates/status/807106840509214720/video/1\n",
    "\n",
    "Check out the dogs with most likes here-\n",
    "\n",
    "1> https://twitter.com/dog_rates/status/744234799360020481/video/1\n",
    "\n",
    "2> https://twitter.com/dog_rates/status/822872901745569793/photo/1\n",
    "\n",
    "3> https://twitter.com/dog_rates/status/807106840509214720/video/1\n"
   ]
  },
  {
   "cell_type": "markdown",
   "metadata": {},
   "source": [
    "Have you ever wondered what is the most common dog name?\n",
    "If you go by the data from WeRateDogs it is......\n",
    "\"Charlie\" and \"Lucy\"! Both were found to be equally present in the WeRateDogs' data.\n"
   ]
  },
  {
   "cell_type": "markdown",
   "metadata": {},
   "source": [
    "I also had access to some predictions made by a neural network program which tried to predict the breed of a dog using its picture. As per my analysis, The neural network program can accurately predict the breed of the dog 67.73% of the time. Watch out humans the machines are coming to take over the world!\n"
   ]
  },
  {
   "cell_type": "markdown",
   "metadata": {},
   "source": [
    "Finally, I wanted to know the day of the week when most tweets were posted. \n",
    "\n",
    "According to this fancy chart, unsurprisingly, Sunday is the day that most tweets were created but surprisingly Saturday is the day that least tweets were created!\n",
    "\n",
    "<img src=\"day_tweets.png\" alt=\"tweets_by_day\" title=\"tweets_by_day\" />\n"
   ]
  },
  {
   "cell_type": "markdown",
   "metadata": {},
   "source": [
    "<a id='references'></a>\n",
    "## References\n",
    "\n",
    "https://medium.com/ibm-data-science-experience/markdown-for-jupyter-notebooks-cheatsheet-386c05aeebed"
   ]
  }
 ],
 "metadata": {
  "kernelspec": {
   "display_name": "Python 3",
   "language": "python",
   "name": "python3"
  },
  "language_info": {
   "codemirror_mode": {
    "name": "ipython",
    "version": 3
   },
   "file_extension": ".py",
   "mimetype": "text/x-python",
   "name": "python",
   "nbconvert_exporter": "python",
   "pygments_lexer": "ipython3",
   "version": "3.6.3"
  }
 },
 "nbformat": 4,
 "nbformat_minor": 2
}
